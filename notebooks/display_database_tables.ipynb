{
 "cells": [
  {
   "cell_type": "code",
   "execution_count": 4,
   "metadata": {},
   "outputs": [
    {
     "data": {
      "text/plain": [
       "['auth_group',\n",
       " 'auth_group_permissions',\n",
       " 'auth_permission',\n",
       " 'django_admin_log',\n",
       " 'django_celery_results_chordcounter',\n",
       " 'django_celery_results_groupresult',\n",
       " 'django_celery_results_taskresult',\n",
       " 'django_content_type',\n",
       " 'django_migrations',\n",
       " 'django_session',\n",
       " 'idbacdb_culture',\n",
       " 'idbacdb_genetic',\n",
       " 'idbacdb_instrument',\n",
       " 'idbacdb_isolate',\n",
       " 'idbacdb_isolate_collectors',\n",
       " 'idbacdb_library',\n",
       " 'idbacdb_library_groups',\n",
       " 'idbacdb_librarygroup',\n",
       " 'idbacdb_maldimatrix',\n",
       " 'idbacdb_peakdata',\n",
       " 'idbacdb_profile',\n",
       " 'idbacdb_researcher',\n",
       " 'idbacdb_sample',\n",
       " 'idbacdb_sample_collectors',\n",
       " 'idbacdb_spectrum',\n",
       " 'idbacdb_spectrum_collectors',\n",
       " 'idbacdb_spectrumintensity',\n",
       " 'idbacdb_spectrummass',\n",
       " 'idbacdb_stagedfile',\n",
       " 'idbacdb_user',\n",
       " 'idbacdb_user_groups',\n",
       " 'idbacdb_user_user_permissions',\n",
       " 'idbacdb_usertask']"
      ]
     },
     "execution_count": 4,
     "metadata": {},
     "output_type": "execute_result"
    }
   ],
   "source": [
    "import psycopg2\n",
    "from rich import inspect\n",
    "\n",
    "conn = psycopg2.connect(\n",
    "    host=\"localhost\",\n",
    "    database=\"idbacdb\",\n",
    "    user=\"testuser\",\n",
    "    password=\"testpassword\", \n",
    "    port= 5432) \n",
    "\n",
    "db_cursor = conn.cursor()\n",
    "\n",
    "s = \"SELECT table_schema, table_name FROM information_schema.tables WHERE ( table_schema = 'public' ) ORDER BY table_schema, table_name;\"\n",
    "\n",
    "db_cursor.execute(s)\n",
    "list_tables = db_cursor.fetchall()\n",
    "\n",
    "[i[1] for i in list_tables]"
   ]
  }
 ],
 "metadata": {
  "kernelspec": {
   "display_name": "Python 3.10.5 ('socialgene_py')",
   "language": "python",
   "name": "python3"
  },
  "language_info": {
   "codemirror_mode": {
    "name": "ipython",
    "version": 3
   },
   "file_extension": ".py",
   "mimetype": "text/x-python",
   "name": "python",
   "nbconvert_exporter": "python",
   "pygments_lexer": "ipython3",
   "version": "3.10.5"
  },
  "orig_nbformat": 4,
  "vscode": {
   "interpreter": {
    "hash": "473cfb37ee79e22f0acb43948721325c196be5d4863cb1bea876fb417b284fe7"
   }
  }
 },
 "nbformat": 4,
 "nbformat_minor": 2
}
